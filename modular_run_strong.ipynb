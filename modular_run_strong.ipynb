{
 "cells": [
  {
   "cell_type": "code",
   "execution_count": 1,
   "id": "initial_id",
   "metadata": {
    "collapsed": true,
    "ExecuteTime": {
     "end_time": "2024-03-06T20:22:16.847835Z",
     "start_time": "2024-03-06T20:22:13.314287Z"
    }
   },
   "outputs": [],
   "source": [
    "import json\n",
    "import networkx as nx\n",
    "import torch\n",
    "import torch_geometric.transforms as T\n",
    "from matplotlib import pyplot as plt\n",
    "from torch_geometric.utils import to_networkx\n",
    "\n",
    "import glgexplainer.utils as utils\n",
    "from glgexplainer.local_explainations import read_lattice, lattice_classnames\n",
    "from glgexplainer.models import LEN, GLGExplainer, LEEmbedder\n",
    "from gnn4ua.datasets.loader import Targets, GeneralisationModes"
   ]
  },
  {
   "cell_type": "code",
   "outputs": [],
   "source": [
    "DATASET_NAME = Targets.Modular\n",
    "generalisation_mode = GeneralisationModes.strong\n",
    "task = DATASET_NAME\n",
    "with open(f\"config/{DATASET_NAME}_params.json\") as json_file:\n",
    "\thyper_params = json.load(json_file)"
   ],
   "metadata": {
    "collapsed": false,
    "ExecuteTime": {
     "end_time": "2024-03-06T20:22:16.849536Z",
     "start_time": "2024-03-06T20:22:16.840696Z"
    }
   },
   "id": "495f6b5ddf328277",
   "execution_count": 2
  },
  {
   "cell_type": "code",
   "outputs": [],
   "source": [
    "adjs_train, edge_weights_train, ori_classes_train, belonging_train, summary_predictions_train, le_classes_train = read_lattice(\n",
    "\ttarget=task,\n",
    "\tmode=generalisation_mode,\n",
    "\tsplit='train'\n",
    ")\n",
    "\n",
    "adjs_test, edge_weights_test, ori_classes_test, belonging_test, summary_predictions_test, le_classes_test = read_lattice(\n",
    "\ttarget=task,\n",
    "\tmode=generalisation_mode,\n",
    "\tsplit='test'\n",
    ")\n",
    "\n",
    "device = \"cpu\"  # torch.device('cuda' if torch.cuda.is_available() else 'cpu')\n",
    "transform = T.Compose([\n",
    "\tT.NormalizeFeatures(),\n",
    "])"
   ],
   "metadata": {
    "collapsed": false,
    "is_executing": true,
    "ExecuteTime": {
     "start_time": "2024-03-06T20:22:16.840818Z"
    }
   },
   "id": "93a2835ccf4e2c06",
   "execution_count": null
  },
  {
   "cell_type": "code",
   "outputs": [],
   "source": [
    "dataset_train = utils.LocalExplanationsDataset(\"data_glg\", adjs_train, \"same\",\n",
    "\t\t\t\t\t\t\t\t\t\t\t   transform=transform,\n",
    "\t\t\t\t\t\t\t\t\t\t\t   y=le_classes_train,\n",
    "\t\t\t\t\t\t\t\t\t\t\t   belonging=belonging_train,\n",
    "\t\t\t\t\t\t\t\t\t\t\t   task_y=ori_classes_train)\n",
    "dataset_test = utils.LocalExplanationsDataset(\"data_glg\", adjs_test, \"same\",\n",
    "\t\t\t\t\t\t\t\t\t\t\t  transform=transform,\n",
    "\t\t\t\t\t\t\t\t\t\t\t  y=le_classes_test,\n",
    "\t\t\t\t\t\t\t\t\t\t\t  belonging=belonging_test,\n",
    "\t\t\t\t\t\t\t\t\t\t\t  task_y=ori_classes_test)\n",
    "\n",
    "train_group_loader = utils.build_dataloader(dataset_train, belonging_train,\n",
    "\t\t\t\t\t\t\t\t\t\t\tnum_input_graphs=128)\n",
    "test_group_loader = utils.build_dataloader(dataset_test, belonging_test,\n",
    "\t\t\t\t\t\t\t\t\t\t   num_input_graphs=256)"
   ],
   "metadata": {
    "collapsed": false,
    "is_executing": true
   },
   "id": "1360662ce76682b1",
   "execution_count": null
  },
  {
   "cell_type": "code",
   "outputs": [],
   "source": [
    "torch.manual_seed(42)\n",
    "len_model = LEN(hyper_params[\"num_prototypes\"],\n",
    "\t\t\t\thyper_params[\"LEN_temperature\"],\n",
    "\t\t\t\tremove_attention=hyper_params[\"remove_attention\"]).to(device)\n",
    "le_model = LEEmbedder(num_features=hyper_params[\"num_le_features\"],\n",
    "\t\t\t\t\t  activation=hyper_params[\"activation\"],\n",
    "\t\t\t\t\t  num_hidden=hyper_params[\"dim_prototypes\"]).to(device)\n",
    "expl = GLGExplainer(len_model,\n",
    "\t\t\t\t\tle_model,\n",
    "\t\t\t\t\tdevice=device,\n",
    "\t\t\t\t\thyper_params=hyper_params,\n",
    "\t\t\t\t\tclasses_names=lattice_classnames,\n",
    "\t\t\t\t\tdataset_name=DATASET_NAME,\n",
    "\t\t\t\t\tnum_classes=len(\n",
    "\t\t\t\t\t\ttrain_group_loader.dataset.data.task_y.unique())\n",
    "\t\t\t\t\t).to(device)"
   ],
   "metadata": {
    "collapsed": false,
    "is_executing": true
   },
   "id": "1b8d35df7664f7c0",
   "execution_count": null
  },
  {
   "cell_type": "code",
   "outputs": [],
   "source": [
    "expl.iterate(train_group_loader, test_group_loader, plot=True)"
   ],
   "metadata": {
    "collapsed": false,
    "is_executing": true
   },
   "id": "18f35df5f9066c6",
   "execution_count": null
  },
  {
   "cell_type": "code",
   "outputs": [],
   "source": [
    "expl.inspect(test_group_loader)"
   ],
   "metadata": {
    "collapsed": false,
    "is_executing": true
   },
   "id": "e480600beca56d8b",
   "execution_count": null
  },
  {
   "cell_type": "code",
   "outputs": [],
   "source": [
    "expl.hyper[\"assign_func\"] = \"sim\"\n",
    "\n",
    "x_train, emb, concepts_assignement, y_train_1h, le_classes, le_idxs, belonging = expl.get_concept_vector(\n",
    "\ttest_group_loader,\n",
    "\treturn_raw=True)\n",
    "expl.hyper[\"assign_func\"] = \"discrete\"\n",
    "\n",
    "proto_names = {\n",
    "\t0: \"BA\",\n",
    "\t1: \"Wheel\",\n",
    "\t2: \"Mix\",\n",
    "\t3: \"Grid\",\n",
    "\t4: \"House\",\n",
    "\t5: \"Grid\",\n",
    "}\n",
    "torch.manual_seed(42)\n",
    "fig = plt.figure(figsize=(15, 5 * 1.8))\n",
    "n = 0\n",
    "for p in range(expl.hyper[\"num_prototypes\"]):\n",
    "\tidxs = le_idxs[concepts_assignement.argmax(-1) == p]\n",
    "\t# idxs = idxs[torch.randperm(len(idxs))]    # random\n",
    "\tsa = concepts_assignement[concepts_assignement.argmax(-1) == p]\n",
    "\tidxs = idxs[torch.argsort(sa[:, p], descending=True)]\n",
    "\tfor ex in range(min(5, len(idxs))):\n",
    "\t\tn += 1\n",
    "\t\tax = plt.subplot(expl.hyper[\"num_prototypes\"], 5, n)\n",
    "\t\tG = to_networkx(dataset_test[int(idxs[ex])], to_undirected=True,\n",
    "\t\t\t\t\t\tremove_self_loops=True)\n",
    "\t\tpos = nx.spring_layout(G, seed=42)\n",
    "\t\tnx.draw(G, pos, node_size=20, ax=ax, node_color=\"orange\")\n",
    "\t\tax.axis(\"on\")\n",
    "\t\tplt.box(False)\n",
    "\n",
    "for p in range(expl.hyper[\"num_prototypes\"]):\n",
    "\tplt.subplot(expl.hyper[\"num_prototypes\"], 5, 5 * p + 1)\n",
    "\tplt.ylabel(f\"$P_{p}$\\n\", size=25, rotation=\"horizontal\",\n",
    "\t\t\t   labelpad=50)\n",
    "\n",
    "plt.show()"
   ],
   "metadata": {
    "collapsed": false,
    "is_executing": true
   },
   "id": "a370725d6ed750d",
   "execution_count": null
  },
  {
   "cell_type": "code",
   "outputs": [],
   "source": [
    "fig, axs = plt.subplots(9, 9, figsize=(10, 10))\n",
    "axs = axs.flatten()\n",
    "\n",
    "for i in range(81):\n",
    "\tG = nx.Graph(adjs_train[i], undirected=True)\n",
    "\tG.remove_edges_from(nx.selfloop_edges(G))\n",
    "\tpos = nx.spring_layout(G, seed=42)\n",
    "\tnx.draw(G, pos, ax=axs[i], node_color=\"orange\", node_size=25)"
   ],
   "metadata": {
    "collapsed": false,
    "is_executing": true
   },
   "id": "b8dfc7c7f1783c2e",
   "execution_count": null
  },
  {
   "cell_type": "code",
   "outputs": [],
   "source": [
    "import numpy as np\n",
    "data = np.load(\"local_features/PGExplainer/Distributive_weak/x_train.npz\")\n",
    "y = np.load(\"local_features/PGExplainer/Distributive_weak/y_train.npy\")\n",
    "adjs = list(data.values())\n",
    "\n",
    "fig, axs = plt.subplots(9, 9, figsize=(15, 15))\n",
    "axs = axs.flatten()\n",
    "\n",
    "for i in range(81):\n",
    "\tadj = adjs[i].squeeze()\n",
    "\tadj[adj > 0] = 1\n",
    "\tG = nx.Graph(adj, undirected=True)\n",
    "\tG.remove_edges_from(nx.selfloop_edges(G))\n",
    "\tpos = nx.spring_layout(G, seed=42)\n",
    "\tnx.draw(G, pos, ax=axs[i], node_color=\"orange\", node_size=10)\n",
    "\taxs[i].set_title(f'Class={y[i]}')"
   ],
   "metadata": {
    "collapsed": false,
    "is_executing": true
   },
   "id": "d3f2517d7e7bc4f4",
   "execution_count": null
  },
  {
   "cell_type": "code",
   "outputs": [],
   "source": [],
   "metadata": {
    "collapsed": false,
    "is_executing": true
   },
   "id": "9e4555ad9c067658",
   "execution_count": null
  }
 ],
 "metadata": {
  "kernelspec": {
   "display_name": "Python 3",
   "language": "python",
   "name": "python3"
  },
  "language_info": {
   "codemirror_mode": {
    "name": "ipython",
    "version": 2
   },
   "file_extension": ".py",
   "mimetype": "text/x-python",
   "name": "python",
   "nbconvert_exporter": "python",
   "pygments_lexer": "ipython2",
   "version": "2.7.6"
  }
 },
 "nbformat": 4,
 "nbformat_minor": 5
}
