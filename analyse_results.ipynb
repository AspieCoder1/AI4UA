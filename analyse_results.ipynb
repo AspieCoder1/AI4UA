{
 "cells": [
  {
   "cell_type": "code",
   "execution_count": 47,
   "id": "initial_id",
   "metadata": {
    "collapsed": true,
    "ExecuteTime": {
     "end_time": "2024-03-11T11:24:21.737919Z",
     "start_time": "2024-03-11T11:24:21.734790Z"
    }
   },
   "outputs": [],
   "source": [
    "import pandas as pd\n",
    "import re\n",
    "import numpy as np"
   ]
  },
  {
   "cell_type": "code",
   "outputs": [],
   "source": [
    "df = pd.read_csv('GLGExplainer_results.csv')"
   ],
   "metadata": {
    "collapsed": false,
    "ExecuteTime": {
     "end_time": "2024-03-11T11:24:21.747626Z",
     "start_time": "2024-03-11T11:24:21.740603Z"
    }
   },
   "id": "1ae7fcb28b2e8ff5",
   "execution_count": 48
  },
  {
   "cell_type": "code",
   "outputs": [
    {
     "data": {
      "text/plain": "            task    mode  seed  logic_acc  logic_acc_clf  concept_purity  \\\n0   Distributive  strong   102   0.897513       0.897513        0.486524   \n1   Distributive    weak   102   0.762317       0.762317        0.477454   \n2   Distributive  strong   106   0.797387       0.797387        0.408332   \n3   Distributive    weak   106   0.856609       0.856609        0.430434   \n4   Distributive  strong   270   0.799197       0.799118        0.536633   \n5   Distributive    weak   270   0.768434       0.768434        0.455157   \n6        Modular  strong   102   0.874390       0.874311        0.490191   \n7        Modular    weak   102   0.850832       0.850832        0.414441   \n8        Modular  strong   106   0.880038       0.880038        0.529974   \n9        Modular    weak   106   0.753653       0.753653        0.394283   \n10       Modular  strong   270   0.874193       0.873878        0.451447   \n11       Modular    weak   270   0.841318       0.841318        0.471729   \n\n    concept_purity_std  LEN_fidelity  formula_len_0  formula_len_1  \\\n0             0.199975      0.897513              7              3   \n1             0.250367      0.762317              6              1   \n2             0.141633      0.797387              6              1   \n3             0.127705      0.856609              6              2   \n4             0.264720      0.799118              6              1   \n5             0.153654      0.768434              7              1   \n6             0.244087      0.874311              6              1   \n7             0.170964      0.850832              7              3   \n8             0.211464      0.880038              7              3   \n9             0.123874      0.753653              6              2   \n10            0.172580      0.873878              5              3   \n11            0.203360      0.841318              6              4   \n\n                                            formula_0  \\\n0   (feature0000000004) | (feature0000000003) | (f...   \n1   (feature0000000001) | (feature0000000006) | (f...   \n2   (feature0000000004) | (feature0000000003) | (f...   \n3   (feature0000000007) | (feature0000000002) | (f...   \n4   (feature0000000007) | (feature0000000005) | (f...   \n5   (feature0000000003) | (feature0000000004) | (f...   \n6   (feature0000000001) | (feature0000000006) | (f...   \n7   (feature0000000001) | (feature0000000004) | (f...   \n8   (feature0000000000) | (feature0000000003) | (f...   \n9   (feature0000000000) | (feature0000000003) | (f...   \n10  (feature0000000002) | (feature0000000003) | (f...   \n11  (feature0000000004) | (feature0000000007) | (f...   \n\n                                            formula_1  \n0   (feature0000000000) | (feature0000000004 & fea...  \n1                                 (feature0000000005)  \n2                                 (feature0000000000)  \n3   (feature0000000000) | (feature0000000004 & fea...  \n4                                 (feature0000000000)  \n5                                 (feature0000000000)  \n6                                 (feature0000000000)  \n7   (feature0000000000) | (feature0000000001 & fea...  \n8   (feature0000000006) | (feature0000000007 & fea...  \n9   (feature0000000002) | (feature0000000006) | (f...  \n10  (feature0000000006) | (feature0000000000) | (f...  \n11  (feature0000000003) | (feature0000000002) | (f...  ",
      "text/html": "<div>\n<style scoped>\n    .dataframe tbody tr th:only-of-type {\n        vertical-align: middle;\n    }\n\n    .dataframe tbody tr th {\n        vertical-align: top;\n    }\n\n    .dataframe thead th {\n        text-align: right;\n    }\n</style>\n<table border=\"1\" class=\"dataframe\">\n  <thead>\n    <tr style=\"text-align: right;\">\n      <th></th>\n      <th>task</th>\n      <th>mode</th>\n      <th>seed</th>\n      <th>logic_acc</th>\n      <th>logic_acc_clf</th>\n      <th>concept_purity</th>\n      <th>concept_purity_std</th>\n      <th>LEN_fidelity</th>\n      <th>formula_len_0</th>\n      <th>formula_len_1</th>\n      <th>formula_0</th>\n      <th>formula_1</th>\n    </tr>\n  </thead>\n  <tbody>\n    <tr>\n      <th>0</th>\n      <td>Distributive</td>\n      <td>strong</td>\n      <td>102</td>\n      <td>0.897513</td>\n      <td>0.897513</td>\n      <td>0.486524</td>\n      <td>0.199975</td>\n      <td>0.897513</td>\n      <td>7</td>\n      <td>3</td>\n      <td>(feature0000000004) | (feature0000000003) | (f...</td>\n      <td>(feature0000000000) | (feature0000000004 &amp; fea...</td>\n    </tr>\n    <tr>\n      <th>1</th>\n      <td>Distributive</td>\n      <td>weak</td>\n      <td>102</td>\n      <td>0.762317</td>\n      <td>0.762317</td>\n      <td>0.477454</td>\n      <td>0.250367</td>\n      <td>0.762317</td>\n      <td>6</td>\n      <td>1</td>\n      <td>(feature0000000001) | (feature0000000006) | (f...</td>\n      <td>(feature0000000005)</td>\n    </tr>\n    <tr>\n      <th>2</th>\n      <td>Distributive</td>\n      <td>strong</td>\n      <td>106</td>\n      <td>0.797387</td>\n      <td>0.797387</td>\n      <td>0.408332</td>\n      <td>0.141633</td>\n      <td>0.797387</td>\n      <td>6</td>\n      <td>1</td>\n      <td>(feature0000000004) | (feature0000000003) | (f...</td>\n      <td>(feature0000000000)</td>\n    </tr>\n    <tr>\n      <th>3</th>\n      <td>Distributive</td>\n      <td>weak</td>\n      <td>106</td>\n      <td>0.856609</td>\n      <td>0.856609</td>\n      <td>0.430434</td>\n      <td>0.127705</td>\n      <td>0.856609</td>\n      <td>6</td>\n      <td>2</td>\n      <td>(feature0000000007) | (feature0000000002) | (f...</td>\n      <td>(feature0000000000) | (feature0000000004 &amp; fea...</td>\n    </tr>\n    <tr>\n      <th>4</th>\n      <td>Distributive</td>\n      <td>strong</td>\n      <td>270</td>\n      <td>0.799197</td>\n      <td>0.799118</td>\n      <td>0.536633</td>\n      <td>0.264720</td>\n      <td>0.799118</td>\n      <td>6</td>\n      <td>1</td>\n      <td>(feature0000000007) | (feature0000000005) | (f...</td>\n      <td>(feature0000000000)</td>\n    </tr>\n    <tr>\n      <th>5</th>\n      <td>Distributive</td>\n      <td>weak</td>\n      <td>270</td>\n      <td>0.768434</td>\n      <td>0.768434</td>\n      <td>0.455157</td>\n      <td>0.153654</td>\n      <td>0.768434</td>\n      <td>7</td>\n      <td>1</td>\n      <td>(feature0000000003) | (feature0000000004) | (f...</td>\n      <td>(feature0000000000)</td>\n    </tr>\n    <tr>\n      <th>6</th>\n      <td>Modular</td>\n      <td>strong</td>\n      <td>102</td>\n      <td>0.874390</td>\n      <td>0.874311</td>\n      <td>0.490191</td>\n      <td>0.244087</td>\n      <td>0.874311</td>\n      <td>6</td>\n      <td>1</td>\n      <td>(feature0000000001) | (feature0000000006) | (f...</td>\n      <td>(feature0000000000)</td>\n    </tr>\n    <tr>\n      <th>7</th>\n      <td>Modular</td>\n      <td>weak</td>\n      <td>102</td>\n      <td>0.850832</td>\n      <td>0.850832</td>\n      <td>0.414441</td>\n      <td>0.170964</td>\n      <td>0.850832</td>\n      <td>7</td>\n      <td>3</td>\n      <td>(feature0000000001) | (feature0000000004) | (f...</td>\n      <td>(feature0000000000) | (feature0000000001 &amp; fea...</td>\n    </tr>\n    <tr>\n      <th>8</th>\n      <td>Modular</td>\n      <td>strong</td>\n      <td>106</td>\n      <td>0.880038</td>\n      <td>0.880038</td>\n      <td>0.529974</td>\n      <td>0.211464</td>\n      <td>0.880038</td>\n      <td>7</td>\n      <td>3</td>\n      <td>(feature0000000000) | (feature0000000003) | (f...</td>\n      <td>(feature0000000006) | (feature0000000007 &amp; fea...</td>\n    </tr>\n    <tr>\n      <th>9</th>\n      <td>Modular</td>\n      <td>weak</td>\n      <td>106</td>\n      <td>0.753653</td>\n      <td>0.753653</td>\n      <td>0.394283</td>\n      <td>0.123874</td>\n      <td>0.753653</td>\n      <td>6</td>\n      <td>2</td>\n      <td>(feature0000000000) | (feature0000000003) | (f...</td>\n      <td>(feature0000000002) | (feature0000000006) | (f...</td>\n    </tr>\n    <tr>\n      <th>10</th>\n      <td>Modular</td>\n      <td>strong</td>\n      <td>270</td>\n      <td>0.874193</td>\n      <td>0.873878</td>\n      <td>0.451447</td>\n      <td>0.172580</td>\n      <td>0.873878</td>\n      <td>5</td>\n      <td>3</td>\n      <td>(feature0000000002) | (feature0000000003) | (f...</td>\n      <td>(feature0000000006) | (feature0000000000) | (f...</td>\n    </tr>\n    <tr>\n      <th>11</th>\n      <td>Modular</td>\n      <td>weak</td>\n      <td>270</td>\n      <td>0.841318</td>\n      <td>0.841318</td>\n      <td>0.471729</td>\n      <td>0.203360</td>\n      <td>0.841318</td>\n      <td>6</td>\n      <td>4</td>\n      <td>(feature0000000004) | (feature0000000007) | (f...</td>\n      <td>(feature0000000003) | (feature0000000002) | (f...</td>\n    </tr>\n  </tbody>\n</table>\n</div>"
     },
     "execution_count": 49,
     "metadata": {},
     "output_type": "execute_result"
    }
   ],
   "source": [
    "df"
   ],
   "metadata": {
    "collapsed": false,
    "ExecuteTime": {
     "end_time": "2024-03-11T11:24:21.757063Z",
     "start_time": "2024-03-11T11:24:21.748920Z"
    }
   },
   "id": "b60b4a9c1c9f8c11",
   "execution_count": 49
  },
  {
   "cell_type": "code",
   "outputs": [],
   "source": [
    "def count_literals(row):\n",
    "\tprint(row)\n",
    "\tliterals = set()\n",
    "\t\n",
    "\tpattern=r'feature\\d+'\n",
    "\t\n",
    "\tliterals_0 = re.findall(pattern, row['formula_0'])\n",
    "\tliterals_1 = re.findall(pattern, row['formula_1'])\n",
    "\t\n",
    "\tliterals.update(literals_0)\n",
    "\tliterals.update(literals_1)\n",
    "\treturn len(literals)\n",
    "\t"
   ],
   "metadata": {
    "collapsed": false,
    "ExecuteTime": {
     "end_time": "2024-03-11T11:24:21.760243Z",
     "start_time": "2024-03-11T11:24:21.757792Z"
    }
   },
   "id": "b5c18e827cfc493b",
   "execution_count": 50
  },
  {
   "cell_type": "code",
   "outputs": [
    {
     "name": "stdout",
     "output_type": "stream",
     "text": [
      "                                            formula_0  \\\n",
      "0   (feature0000000004) | (feature0000000003) | (f...   \n",
      "1   (feature0000000001) | (feature0000000006) | (f...   \n",
      "2   (feature0000000004) | (feature0000000003) | (f...   \n",
      "3   (feature0000000007) | (feature0000000002) | (f...   \n",
      "4   (feature0000000007) | (feature0000000005) | (f...   \n",
      "5   (feature0000000003) | (feature0000000004) | (f...   \n",
      "6   (feature0000000001) | (feature0000000006) | (f...   \n",
      "7   (feature0000000001) | (feature0000000004) | (f...   \n",
      "8   (feature0000000000) | (feature0000000003) | (f...   \n",
      "9   (feature0000000000) | (feature0000000003) | (f...   \n",
      "10  (feature0000000002) | (feature0000000003) | (f...   \n",
      "11  (feature0000000004) | (feature0000000007) | (f...   \n",
      "\n",
      "                                            formula_1  \n",
      "0   (feature0000000000) | (feature0000000004 & fea...  \n",
      "1                                 (feature0000000005)  \n",
      "2                                 (feature0000000000)  \n",
      "3   (feature0000000000) | (feature0000000004 & fea...  \n",
      "4                                 (feature0000000000)  \n",
      "5                                 (feature0000000000)  \n",
      "6                                 (feature0000000000)  \n",
      "7   (feature0000000000) | (feature0000000001 & fea...  \n",
      "8   (feature0000000006) | (feature0000000007 & fea...  \n",
      "9   (feature0000000002) | (feature0000000006) | (f...  \n",
      "10  (feature0000000006) | (feature0000000000) | (f...  \n",
      "11  (feature0000000003) | (feature0000000002) | (f...  \n",
      "formula_0    (feature0000000004) | (feature0000000003) | (f...\n",
      "formula_1    (feature0000000000) | (feature0000000004 & fea...\n",
      "Name: 0, dtype: object\n",
      "formula_0    (feature0000000001) | (feature0000000006) | (f...\n",
      "formula_1                                  (feature0000000005)\n",
      "Name: 1, dtype: object\n",
      "formula_0    (feature0000000004) | (feature0000000003) | (f...\n",
      "formula_1                                  (feature0000000000)\n",
      "Name: 2, dtype: object\n",
      "formula_0    (feature0000000007) | (feature0000000002) | (f...\n",
      "formula_1    (feature0000000000) | (feature0000000004 & fea...\n",
      "Name: 3, dtype: object\n",
      "formula_0    (feature0000000007) | (feature0000000005) | (f...\n",
      "formula_1                                  (feature0000000000)\n",
      "Name: 4, dtype: object\n",
      "formula_0    (feature0000000003) | (feature0000000004) | (f...\n",
      "formula_1                                  (feature0000000000)\n",
      "Name: 5, dtype: object\n",
      "formula_0    (feature0000000001) | (feature0000000006) | (f...\n",
      "formula_1                                  (feature0000000000)\n",
      "Name: 6, dtype: object\n",
      "formula_0    (feature0000000001) | (feature0000000004) | (f...\n",
      "formula_1    (feature0000000000) | (feature0000000001 & fea...\n",
      "Name: 7, dtype: object\n",
      "formula_0    (feature0000000000) | (feature0000000003) | (f...\n",
      "formula_1    (feature0000000006) | (feature0000000007 & fea...\n",
      "Name: 8, dtype: object\n",
      "formula_0    (feature0000000000) | (feature0000000003) | (f...\n",
      "formula_1    (feature0000000002) | (feature0000000006) | (f...\n",
      "Name: 9, dtype: object\n",
      "formula_0    (feature0000000002) | (feature0000000003) | (f...\n",
      "formula_1    (feature0000000006) | (feature0000000000) | (f...\n",
      "Name: 10, dtype: object\n",
      "formula_0    (feature0000000004) | (feature0000000007) | (f...\n",
      "formula_1    (feature0000000003) | (feature0000000002) | (f...\n",
      "Name: 11, dtype: object\n"
     ]
    }
   ],
   "source": [
    "print(df[['formula_0', 'formula_1']])\n",
    "df['num_literals'] = df[['formula_0', 'formula_1']].apply(count_literals, axis=1)"
   ],
   "metadata": {
    "collapsed": false,
    "ExecuteTime": {
     "end_time": "2024-03-11T11:24:21.768311Z",
     "start_time": "2024-03-11T11:24:21.761932Z"
    }
   },
   "id": "bd9257c21372b6d0",
   "execution_count": 51
  },
  {
   "cell_type": "code",
   "outputs": [],
   "source": [
    "df_numeric = df.drop(columns=['seed', 'logic_acc_clf', 'formula_0', 'formula_1', 'formula_len_0', 'formula_len_1', 'concept_purity_std'])\n",
    "df_grouped = df_numeric.groupby(['task', 'mode']).agg(lambda x: f\"{np.mean(x)}({np.std(x)})\")\n",
    "df_grouped.columns = ['Accuracy', 'Concept Purity', 'Fidelity', 'Explanation Complexity']\n",
    "\n",
    "column_order = ['Fidelity', 'Accuracy', 'Concept Purity' ,'Explanation Complexity']"
   ],
   "metadata": {
    "collapsed": false,
    "ExecuteTime": {
     "end_time": "2024-03-11T11:29:50.660561Z",
     "start_time": "2024-03-11T11:29:50.639542Z"
    }
   },
   "id": "9c271614659144cf",
   "execution_count": 68
  },
  {
   "cell_type": "code",
   "outputs": [
    {
     "name": "stdout",
     "output_type": "stream",
     "text": [
      "\\begin{tabular}{llSSSS}\n",
      "\\toprule\n",
      " &  & Fidelity & Accuracy & Concept Purity & Explanation Complexity \\\\\n",
      "task & mode &  &  &  &  \\\\\n",
      "\\midrule\n",
      "\\multirow[t]{2}{*}{Distributive} & strong & 0.8313392202059428(0.046796996693144965) & 0.8313654466180452(0.04677893617092224) & 0.47716275336566083(0.05279518180391992) & 7.333333333333333(0.4714045207910317) \\\\\n",
      " & weak & 0.7957866191864014(0.043080288448007834) & 0.7957866123003737(0.04308027574183135) & 0.45434838731368526(0.019204319448880437) & 7.333333333333333(0.4714045207910317) \\\\\n",
      "\\cline{1-6}\n",
      "\\multirow[t]{2}{*}{Modular} & strong & 0.8760756055514017(0.002807249379708439) & 0.8762067903240328(0.0027101115402923303) & 0.49053716569483674(0.032059732275501726) & 7.333333333333333(0.4714045207910317) \\\\\n",
      " & weak & 0.8152678608894348(0.04374125266547604) & 0.8152678672556348(0.04374126880293464) & 0.4268176168330285(0.03280630684635636) & 8.0(0.0) \\\\\n",
      "\\cline{1-6}\n",
      "\\bottomrule\n",
      "\\end{tabular}\n"
     ]
    }
   ],
   "source": [
    "print(df_grouped[column_order].to_latex(column_format='llSSSS'))"
   ],
   "metadata": {
    "collapsed": false,
    "ExecuteTime": {
     "end_time": "2024-03-11T11:31:28.052593Z",
     "start_time": "2024-03-11T11:31:28.048102Z"
    }
   },
   "id": "30535b077250be64",
   "execution_count": 72
  },
  {
   "cell_type": "code",
   "outputs": [],
   "source": [],
   "metadata": {
    "collapsed": false,
    "ExecuteTime": {
     "end_time": "2024-03-11T11:24:21.803191Z",
     "start_time": "2024-03-11T11:24:21.800829Z"
    }
   },
   "id": "a14546102c173a4",
   "execution_count": 53
  }
 ],
 "metadata": {
  "kernelspec": {
   "display_name": "Python 3",
   "language": "python",
   "name": "python3"
  },
  "language_info": {
   "codemirror_mode": {
    "name": "ipython",
    "version": 2
   },
   "file_extension": ".py",
   "mimetype": "text/x-python",
   "name": "python",
   "nbconvert_exporter": "python",
   "pygments_lexer": "ipython2",
   "version": "2.7.6"
  }
 },
 "nbformat": 4,
 "nbformat_minor": 5
}
