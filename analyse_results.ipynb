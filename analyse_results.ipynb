{
 "cells": [
  {
   "cell_type": "code",
   "execution_count": 73,
   "id": "initial_id",
   "metadata": {
    "collapsed": true,
    "ExecuteTime": {
     "end_time": "2024-03-11T18:43:54.131855Z",
     "start_time": "2024-03-11T18:43:54.129518Z"
    }
   },
   "outputs": [],
   "source": [
    "import pandas as pd\n",
    "import re\n",
    "import numpy as np"
   ]
  },
  {
   "cell_type": "code",
   "outputs": [],
   "source": [
    "df = pd.read_csv('GLGExplainer_results_old.csv')"
   ],
   "metadata": {
    "collapsed": false,
    "ExecuteTime": {
     "end_time": "2024-03-11T18:43:54.143213Z",
     "start_time": "2024-03-11T18:43:54.133327Z"
    }
   },
   "id": "1ae7fcb28b2e8ff5",
   "execution_count": 74
  },
  {
   "cell_type": "code",
   "outputs": [
    {
     "data": {
      "text/plain": "            task    mode  seed  logic_acc  logic_acc_clf  concept_purity  \\\n0   Distributive  strong   102   0.897513       0.897513        0.486524   \n1   Distributive    weak   102   0.762317       0.762317        0.477454   \n2   Distributive  strong   106   0.797387       0.797387        0.408332   \n3   Distributive    weak   106   0.856609       0.856609        0.430434   \n4   Distributive  strong   270   0.799197       0.799118        0.536633   \n5   Distributive    weak   270   0.768434       0.768434        0.455157   \n6        Modular  strong   102   0.874390       0.874311        0.490191   \n7        Modular    weak   102   0.850832       0.850832        0.414441   \n8        Modular  strong   106   0.880038       0.880038        0.529974   \n9        Modular    weak   106   0.753653       0.753653        0.394283   \n10       Modular  strong   270   0.874193       0.873878        0.451447   \n11       Modular    weak   270   0.841318       0.841318        0.471729   \n\n    concept_purity_std  LEN_fidelity  formula_len_0  formula_len_1  \\\n0             0.199975      0.897513              7              3   \n1             0.250367      0.762317              6              1   \n2             0.141633      0.797387              6              1   \n3             0.127705      0.856609              6              2   \n4             0.264720      0.799118              6              1   \n5             0.153654      0.768434              7              1   \n6             0.244087      0.874311              6              1   \n7             0.170964      0.850832              7              3   \n8             0.211464      0.880038              7              3   \n9             0.123874      0.753653              6              2   \n10            0.172580      0.873878              5              3   \n11            0.203360      0.841318              6              4   \n\n                                            formula_0  \\\n0   (feature0000000004) | (feature0000000003) | (f...   \n1   (feature0000000001) | (feature0000000006) | (f...   \n2   (feature0000000004) | (feature0000000003) | (f...   \n3   (feature0000000007) | (feature0000000002) | (f...   \n4   (feature0000000007) | (feature0000000005) | (f...   \n5   (feature0000000003) | (feature0000000004) | (f...   \n6   (feature0000000001) | (feature0000000006) | (f...   \n7   (feature0000000001) | (feature0000000004) | (f...   \n8   (feature0000000000) | (feature0000000003) | (f...   \n9   (feature0000000000) | (feature0000000003) | (f...   \n10  (feature0000000002) | (feature0000000003) | (f...   \n11  (feature0000000004) | (feature0000000007) | (f...   \n\n                                            formula_1  \n0   (feature0000000000) | (feature0000000004 & fea...  \n1                                 (feature0000000005)  \n2                                 (feature0000000000)  \n3   (feature0000000000) | (feature0000000004 & fea...  \n4                                 (feature0000000000)  \n5                                 (feature0000000000)  \n6                                 (feature0000000000)  \n7   (feature0000000000) | (feature0000000001 & fea...  \n8   (feature0000000006) | (feature0000000007 & fea...  \n9   (feature0000000002) | (feature0000000006) | (f...  \n10  (feature0000000006) | (feature0000000000) | (f...  \n11  (feature0000000003) | (feature0000000002) | (f...  ",
      "text/html": "<div>\n<style scoped>\n    .dataframe tbody tr th:only-of-type {\n        vertical-align: middle;\n    }\n\n    .dataframe tbody tr th {\n        vertical-align: top;\n    }\n\n    .dataframe thead th {\n        text-align: right;\n    }\n</style>\n<table border=\"1\" class=\"dataframe\">\n  <thead>\n    <tr style=\"text-align: right;\">\n      <th></th>\n      <th>task</th>\n      <th>mode</th>\n      <th>seed</th>\n      <th>logic_acc</th>\n      <th>logic_acc_clf</th>\n      <th>concept_purity</th>\n      <th>concept_purity_std</th>\n      <th>LEN_fidelity</th>\n      <th>formula_len_0</th>\n      <th>formula_len_1</th>\n      <th>formula_0</th>\n      <th>formula_1</th>\n    </tr>\n  </thead>\n  <tbody>\n    <tr>\n      <th>0</th>\n      <td>Distributive</td>\n      <td>strong</td>\n      <td>102</td>\n      <td>0.897513</td>\n      <td>0.897513</td>\n      <td>0.486524</td>\n      <td>0.199975</td>\n      <td>0.897513</td>\n      <td>7</td>\n      <td>3</td>\n      <td>(feature0000000004) | (feature0000000003) | (f...</td>\n      <td>(feature0000000000) | (feature0000000004 &amp; fea...</td>\n    </tr>\n    <tr>\n      <th>1</th>\n      <td>Distributive</td>\n      <td>weak</td>\n      <td>102</td>\n      <td>0.762317</td>\n      <td>0.762317</td>\n      <td>0.477454</td>\n      <td>0.250367</td>\n      <td>0.762317</td>\n      <td>6</td>\n      <td>1</td>\n      <td>(feature0000000001) | (feature0000000006) | (f...</td>\n      <td>(feature0000000005)</td>\n    </tr>\n    <tr>\n      <th>2</th>\n      <td>Distributive</td>\n      <td>strong</td>\n      <td>106</td>\n      <td>0.797387</td>\n      <td>0.797387</td>\n      <td>0.408332</td>\n      <td>0.141633</td>\n      <td>0.797387</td>\n      <td>6</td>\n      <td>1</td>\n      <td>(feature0000000004) | (feature0000000003) | (f...</td>\n      <td>(feature0000000000)</td>\n    </tr>\n    <tr>\n      <th>3</th>\n      <td>Distributive</td>\n      <td>weak</td>\n      <td>106</td>\n      <td>0.856609</td>\n      <td>0.856609</td>\n      <td>0.430434</td>\n      <td>0.127705</td>\n      <td>0.856609</td>\n      <td>6</td>\n      <td>2</td>\n      <td>(feature0000000007) | (feature0000000002) | (f...</td>\n      <td>(feature0000000000) | (feature0000000004 &amp; fea...</td>\n    </tr>\n    <tr>\n      <th>4</th>\n      <td>Distributive</td>\n      <td>strong</td>\n      <td>270</td>\n      <td>0.799197</td>\n      <td>0.799118</td>\n      <td>0.536633</td>\n      <td>0.264720</td>\n      <td>0.799118</td>\n      <td>6</td>\n      <td>1</td>\n      <td>(feature0000000007) | (feature0000000005) | (f...</td>\n      <td>(feature0000000000)</td>\n    </tr>\n    <tr>\n      <th>5</th>\n      <td>Distributive</td>\n      <td>weak</td>\n      <td>270</td>\n      <td>0.768434</td>\n      <td>0.768434</td>\n      <td>0.455157</td>\n      <td>0.153654</td>\n      <td>0.768434</td>\n      <td>7</td>\n      <td>1</td>\n      <td>(feature0000000003) | (feature0000000004) | (f...</td>\n      <td>(feature0000000000)</td>\n    </tr>\n    <tr>\n      <th>6</th>\n      <td>Modular</td>\n      <td>strong</td>\n      <td>102</td>\n      <td>0.874390</td>\n      <td>0.874311</td>\n      <td>0.490191</td>\n      <td>0.244087</td>\n      <td>0.874311</td>\n      <td>6</td>\n      <td>1</td>\n      <td>(feature0000000001) | (feature0000000006) | (f...</td>\n      <td>(feature0000000000)</td>\n    </tr>\n    <tr>\n      <th>7</th>\n      <td>Modular</td>\n      <td>weak</td>\n      <td>102</td>\n      <td>0.850832</td>\n      <td>0.850832</td>\n      <td>0.414441</td>\n      <td>0.170964</td>\n      <td>0.850832</td>\n      <td>7</td>\n      <td>3</td>\n      <td>(feature0000000001) | (feature0000000004) | (f...</td>\n      <td>(feature0000000000) | (feature0000000001 &amp; fea...</td>\n    </tr>\n    <tr>\n      <th>8</th>\n      <td>Modular</td>\n      <td>strong</td>\n      <td>106</td>\n      <td>0.880038</td>\n      <td>0.880038</td>\n      <td>0.529974</td>\n      <td>0.211464</td>\n      <td>0.880038</td>\n      <td>7</td>\n      <td>3</td>\n      <td>(feature0000000000) | (feature0000000003) | (f...</td>\n      <td>(feature0000000006) | (feature0000000007 &amp; fea...</td>\n    </tr>\n    <tr>\n      <th>9</th>\n      <td>Modular</td>\n      <td>weak</td>\n      <td>106</td>\n      <td>0.753653</td>\n      <td>0.753653</td>\n      <td>0.394283</td>\n      <td>0.123874</td>\n      <td>0.753653</td>\n      <td>6</td>\n      <td>2</td>\n      <td>(feature0000000000) | (feature0000000003) | (f...</td>\n      <td>(feature0000000002) | (feature0000000006) | (f...</td>\n    </tr>\n    <tr>\n      <th>10</th>\n      <td>Modular</td>\n      <td>strong</td>\n      <td>270</td>\n      <td>0.874193</td>\n      <td>0.873878</td>\n      <td>0.451447</td>\n      <td>0.172580</td>\n      <td>0.873878</td>\n      <td>5</td>\n      <td>3</td>\n      <td>(feature0000000002) | (feature0000000003) | (f...</td>\n      <td>(feature0000000006) | (feature0000000000) | (f...</td>\n    </tr>\n    <tr>\n      <th>11</th>\n      <td>Modular</td>\n      <td>weak</td>\n      <td>270</td>\n      <td>0.841318</td>\n      <td>0.841318</td>\n      <td>0.471729</td>\n      <td>0.203360</td>\n      <td>0.841318</td>\n      <td>6</td>\n      <td>4</td>\n      <td>(feature0000000004) | (feature0000000007) | (f...</td>\n      <td>(feature0000000003) | (feature0000000002) | (f...</td>\n    </tr>\n  </tbody>\n</table>\n</div>"
     },
     "execution_count": 75,
     "metadata": {},
     "output_type": "execute_result"
    }
   ],
   "source": [
    "df"
   ],
   "metadata": {
    "collapsed": false,
    "ExecuteTime": {
     "end_time": "2024-03-11T18:43:54.151734Z",
     "start_time": "2024-03-11T18:43:54.143834Z"
    }
   },
   "id": "b60b4a9c1c9f8c11",
   "execution_count": 75
  },
  {
   "cell_type": "code",
   "outputs": [],
   "source": [
    "def count_literals(row):\n",
    "\tliterals = set()\n",
    "\t\n",
    "\tpattern=r'feature\\d+'\n",
    "\t\n",
    "\tliterals_0 = re.findall(pattern, row['formula_0'])\n",
    "\tliterals_1 = re.findall(pattern, row['formula_1'])\n",
    "\t\n",
    "\tliterals.update(literals_0)\n",
    "\tliterals.update(literals_1)\n",
    "\treturn len(literals)\n",
    "\t"
   ],
   "metadata": {
    "collapsed": false,
    "ExecuteTime": {
     "end_time": "2024-03-11T18:43:54.157537Z",
     "start_time": "2024-03-11T18:43:54.153669Z"
    }
   },
   "id": "b5c18e827cfc493b",
   "execution_count": 76
  },
  {
   "cell_type": "code",
   "outputs": [
    {
     "name": "stdout",
     "output_type": "stream",
     "text": [
      "                                            formula_0  \\\n",
      "0   (feature0000000004) | (feature0000000003) | (f...   \n",
      "1   (feature0000000001) | (feature0000000006) | (f...   \n",
      "2   (feature0000000004) | (feature0000000003) | (f...   \n",
      "3   (feature0000000007) | (feature0000000002) | (f...   \n",
      "4   (feature0000000007) | (feature0000000005) | (f...   \n",
      "5   (feature0000000003) | (feature0000000004) | (f...   \n",
      "6   (feature0000000001) | (feature0000000006) | (f...   \n",
      "7   (feature0000000001) | (feature0000000004) | (f...   \n",
      "8   (feature0000000000) | (feature0000000003) | (f...   \n",
      "9   (feature0000000000) | (feature0000000003) | (f...   \n",
      "10  (feature0000000002) | (feature0000000003) | (f...   \n",
      "11  (feature0000000004) | (feature0000000007) | (f...   \n",
      "\n",
      "                                            formula_1  \n",
      "0   (feature0000000000) | (feature0000000004 & fea...  \n",
      "1                                 (feature0000000005)  \n",
      "2                                 (feature0000000000)  \n",
      "3   (feature0000000000) | (feature0000000004 & fea...  \n",
      "4                                 (feature0000000000)  \n",
      "5                                 (feature0000000000)  \n",
      "6                                 (feature0000000000)  \n",
      "7   (feature0000000000) | (feature0000000001 & fea...  \n",
      "8   (feature0000000006) | (feature0000000007 & fea...  \n",
      "9   (feature0000000002) | (feature0000000006) | (f...  \n",
      "10  (feature0000000006) | (feature0000000000) | (f...  \n",
      "11  (feature0000000003) | (feature0000000002) | (f...  \n",
      "formula_0    (feature0000000004) | (feature0000000003) | (f...\n",
      "formula_1    (feature0000000000) | (feature0000000004 & fea...\n",
      "Name: 0, dtype: object\n",
      "formula_0    (feature0000000001) | (feature0000000006) | (f...\n",
      "formula_1                                  (feature0000000005)\n",
      "Name: 1, dtype: object\n",
      "formula_0    (feature0000000004) | (feature0000000003) | (f...\n",
      "formula_1                                  (feature0000000000)\n",
      "Name: 2, dtype: object\n",
      "formula_0    (feature0000000007) | (feature0000000002) | (f...\n",
      "formula_1    (feature0000000000) | (feature0000000004 & fea...\n",
      "Name: 3, dtype: object\n",
      "formula_0    (feature0000000007) | (feature0000000005) | (f...\n",
      "formula_1                                  (feature0000000000)\n",
      "Name: 4, dtype: object\n",
      "formula_0    (feature0000000003) | (feature0000000004) | (f...\n",
      "formula_1                                  (feature0000000000)\n",
      "Name: 5, dtype: object\n",
      "formula_0    (feature0000000001) | (feature0000000006) | (f...\n",
      "formula_1                                  (feature0000000000)\n",
      "Name: 6, dtype: object\n",
      "formula_0    (feature0000000001) | (feature0000000004) | (f...\n",
      "formula_1    (feature0000000000) | (feature0000000001 & fea...\n",
      "Name: 7, dtype: object\n",
      "formula_0    (feature0000000000) | (feature0000000003) | (f...\n",
      "formula_1    (feature0000000006) | (feature0000000007 & fea...\n",
      "Name: 8, dtype: object\n",
      "formula_0    (feature0000000000) | (feature0000000003) | (f...\n",
      "formula_1    (feature0000000002) | (feature0000000006) | (f...\n",
      "Name: 9, dtype: object\n",
      "formula_0    (feature0000000002) | (feature0000000003) | (f...\n",
      "formula_1    (feature0000000006) | (feature0000000000) | (f...\n",
      "Name: 10, dtype: object\n",
      "formula_0    (feature0000000004) | (feature0000000007) | (f...\n",
      "formula_1    (feature0000000003) | (feature0000000002) | (f...\n",
      "Name: 11, dtype: object\n"
     ]
    }
   ],
   "source": [
    "print(df[['formula_0', 'formula_1']])\n",
    "df['num_literals'] = df[['formula_0', 'formula_1']].apply(count_literals, axis=1)"
   ],
   "metadata": {
    "collapsed": false,
    "ExecuteTime": {
     "end_time": "2024-03-11T18:43:54.174964Z",
     "start_time": "2024-03-11T18:43:54.158610Z"
    }
   },
   "id": "bd9257c21372b6d0",
   "execution_count": 77
  },
  {
   "cell_type": "code",
   "outputs": [],
   "source": [
    "df_numeric = df.drop(columns=['seed', 'logic_acc_clf', 'formula_0', 'formula_1', 'formula_len_0', 'formula_len_1', 'concept_purity_std'])\n",
    "df_grouped = df_numeric.groupby(['task', 'mode']).agg(lambda x: f\"{np.mean(x)}({np.std(x)})\")\n",
    "df_grouped.columns = ['Accuracy', 'Concept Purity', 'Fidelity', 'Explanation Complexity']\n",
    "\n",
    "column_order = ['Fidelity', 'Accuracy', 'Concept Purity' ,'Explanation Complexity']"
   ],
   "metadata": {
    "collapsed": false,
    "ExecuteTime": {
     "end_time": "2024-03-11T18:43:54.194568Z",
     "start_time": "2024-03-11T18:43:54.178698Z"
    }
   },
   "id": "9c271614659144cf",
   "execution_count": 78
  },
  {
   "cell_type": "code",
   "outputs": [
    {
     "name": "stdout",
     "output_type": "stream",
     "text": [
      "\\begin{tabular}{llSSSS}\n",
      "\\toprule\n",
      " &  & Fidelity & Accuracy & Concept Purity & Explanation Complexity \\\\\n",
      "task & mode &  &  &  &  \\\\\n",
      "\\midrule\n",
      "\\multirow[t]{2}{*}{Distributive} & strong & 0.8313392202059428(0.046796996693144965) & 0.8313654466180452(0.04677893617092224) & 0.47716275336566083(0.05279518180391992) & 7.333333333333333(0.4714045207910317) \\\\\n",
      " & weak & 0.7957866191864014(0.043080288448007834) & 0.7957866123003737(0.04308027574183135) & 0.45434838731368526(0.019204319448880437) & 7.333333333333333(0.4714045207910317) \\\\\n",
      "\\cline{1-6}\n",
      "\\multirow[t]{2}{*}{Modular} & strong & 0.8760756055514017(0.002807249379708439) & 0.8762067903240328(0.0027101115402923303) & 0.49053716569483674(0.032059732275501726) & 7.333333333333333(0.4714045207910317) \\\\\n",
      " & weak & 0.8152678608894348(0.04374125266547604) & 0.8152678672556348(0.04374126880293464) & 0.4268176168330285(0.03280630684635636) & 8.0(0.0) \\\\\n",
      "\\cline{1-6}\n",
      "\\bottomrule\n",
      "\\end{tabular}\n"
     ]
    }
   ],
   "source": [
    "print(df_grouped[column_order].to_latex(column_format='llSSSS'))"
   ],
   "metadata": {
    "collapsed": false,
    "ExecuteTime": {
     "end_time": "2024-03-11T18:43:54.210597Z",
     "start_time": "2024-03-11T18:43:54.196802Z"
    }
   },
   "id": "30535b077250be64",
   "execution_count": 79
  },
  {
   "cell_type": "code",
   "outputs": [
    {
     "data": {
      "text/plain": "                     task generalisation        model  test_auc  train_auc  \\\n0            Distributive         strong  BlackBoxGNN  0.996862   0.999991   \n1            Distributive         strong  BlackBoxGNN  0.995616   0.998662   \n2            Distributive         strong  BlackBoxGNN  0.993404   0.999200   \n3            Distributive         strong  BlackBoxGNN  0.997507   0.999992   \n4            Distributive         strong  BlackBoxGNN  0.993094   0.998944   \n5            Distributive           weak  BlackBoxGNN  0.997230   0.997950   \n6            Distributive           weak  BlackBoxGNN  0.998820   0.999415   \n7            Distributive           weak  BlackBoxGNN  0.998842   0.998404   \n8            Distributive           weak  BlackBoxGNN  0.998938   0.998976   \n9            Distributive           weak  BlackBoxGNN  0.998692   0.998804   \n10                Modular         strong  BlackBoxGNN  0.978782   0.995241   \n11                Modular         strong  BlackBoxGNN  0.979954   0.999114   \n12                Modular         strong  BlackBoxGNN  0.988844   0.999860   \n13                Modular         strong  BlackBoxGNN  0.984190   0.999243   \n14                Modular         strong  BlackBoxGNN  0.947190   0.991404   \n15                Modular           weak  BlackBoxGNN  0.998857   0.998476   \n16                Modular           weak  BlackBoxGNN  0.843644   0.846973   \n17                Modular           weak  BlackBoxGNN  0.998287   0.998372   \n18                Modular           weak  BlackBoxGNN  0.998177   0.998670   \n19                Modular           weak  BlackBoxGNN  0.999374   0.999707   \n20  Meet_SemiDistributive         strong  BlackBoxGNN  0.899863   0.899913   \n21  Meet_SemiDistributive         strong  BlackBoxGNN  0.986489   0.995029   \n22  Meet_SemiDistributive         strong  BlackBoxGNN  0.987597   0.995584   \n23  Meet_SemiDistributive         strong  BlackBoxGNN  0.950670   0.978223   \n24  Meet_SemiDistributive         strong  BlackBoxGNN  0.986538   0.996320   \n25  Meet_SemiDistributive           weak  BlackBoxGNN  0.968173   0.971478   \n26  Meet_SemiDistributive           weak  BlackBoxGNN  0.980705   0.984307   \n27  Meet_SemiDistributive           weak  BlackBoxGNN  0.983865   0.985418   \n28  Meet_SemiDistributive           weak  BlackBoxGNN  0.991695   0.994216   \n29  Meet_SemiDistributive           weak  BlackBoxGNN  0.993718   0.995450   \n30  Join_SemiDistributive         strong  BlackBoxGNN  0.977353   0.984069   \n31  Join_SemiDistributive         strong  BlackBoxGNN  0.988960   0.996200   \n32  Join_SemiDistributive         strong  BlackBoxGNN  0.986035   0.995675   \n33  Join_SemiDistributive         strong  BlackBoxGNN  0.986748   0.994917   \n34  Join_SemiDistributive         strong  BlackBoxGNN  0.978636   0.987458   \n35  Join_SemiDistributive           weak  BlackBoxGNN  0.992754   0.995127   \n36  Join_SemiDistributive           weak  BlackBoxGNN  0.971690   0.974826   \n37  Join_SemiDistributive           weak  BlackBoxGNN  0.976794   0.980544   \n38  Join_SemiDistributive           weak  BlackBoxGNN  0.942945   0.947822   \n39  Join_SemiDistributive           weak  BlackBoxGNN  0.987122   0.990585   \n40       SemiDistributive         strong  BlackBoxGNN  0.989114   0.996838   \n41       SemiDistributive         strong  BlackBoxGNN  0.986536   0.996515   \n42       SemiDistributive         strong  BlackBoxGNN  0.988136   0.996752   \n43       SemiDistributive         strong  BlackBoxGNN  0.987153   0.997343   \n44       SemiDistributive         strong  BlackBoxGNN  0.988768   0.997192   \n45       SemiDistributive           weak  BlackBoxGNN  0.994818   0.996908   \n46       SemiDistributive           weak  BlackBoxGNN  0.983768   0.985514   \n47       SemiDistributive           weak  BlackBoxGNN  0.990681   0.993133   \n48       SemiDistributive           weak  BlackBoxGNN  0.992009   0.993304   \n49       SemiDistributive           weak  BlackBoxGNN  0.993647   0.995713   \n\n    n_layers  temperature  emb_size  learning_rate  train_epochs  \\\n0          8            1        16          0.001           200   \n1          8            1        16          0.001           200   \n2          8            1        16          0.001           200   \n3          8            1        16          0.001           200   \n4          8            1        16          0.001           200   \n5          8            1        16          0.001           200   \n6          8            1        16          0.001           200   \n7          8            1        16          0.001           200   \n8          8            1        16          0.001           200   \n9          8            1        16          0.001           200   \n10         8            1        16          0.001           200   \n11         8            1        16          0.001           200   \n12         8            1        16          0.001           200   \n13         8            1        16          0.001           200   \n14         8            1        16          0.001           200   \n15         8            1        16          0.001           200   \n16         8            1        16          0.001           200   \n17         8            1        16          0.001           200   \n18         8            1        16          0.001           200   \n19         8            1        16          0.001           200   \n20         8            1        16          0.001           200   \n21         8            1        16          0.001           200   \n22         8            1        16          0.001           200   \n23         8            1        16          0.001           200   \n24         8            1        16          0.001           200   \n25         8            1        16          0.001           200   \n26         8            1        16          0.001           200   \n27         8            1        16          0.001           200   \n28         8            1        16          0.001           200   \n29         8            1        16          0.001           200   \n30         8            1        16          0.001           200   \n31         8            1        16          0.001           200   \n32         8            1        16          0.001           200   \n33         8            1        16          0.001           200   \n34         8            1        16          0.001           200   \n35         8            1        16          0.001           200   \n36         8            1        16          0.001           200   \n37         8            1        16          0.001           200   \n38         8            1        16          0.001           200   \n39         8            1        16          0.001           200   \n40         8            1        16          0.001           200   \n41         8            1        16          0.001           200   \n42         8            1        16          0.001           200   \n43         8            1        16          0.001           200   \n44         8            1        16          0.001           200   \n45         8            1        16          0.001           200   \n46         8            1        16          0.001           200   \n47         8            1        16          0.001           200   \n48         8            1        16          0.001           200   \n49         8            1        16          0.001           200   \n\n    max_size_train  max_prob_train  \n0                8             0.8  \n1                8             0.8  \n2                8             0.8  \n3                8             0.8  \n4                8             0.8  \n5                8             0.8  \n6                8             0.8  \n7                8             0.8  \n8                8             0.8  \n9                8             0.8  \n10               8             0.8  \n11               8             0.8  \n12               8             0.8  \n13               8             0.8  \n14               8             0.8  \n15               8             0.8  \n16               8             0.8  \n17               8             0.8  \n18               8             0.8  \n19               8             0.8  \n20               8             0.8  \n21               8             0.8  \n22               8             0.8  \n23               8             0.8  \n24               8             0.8  \n25               8             0.8  \n26               8             0.8  \n27               8             0.8  \n28               8             0.8  \n29               8             0.8  \n30               8             0.8  \n31               8             0.8  \n32               8             0.8  \n33               8             0.8  \n34               8             0.8  \n35               8             0.8  \n36               8             0.8  \n37               8             0.8  \n38               8             0.8  \n39               8             0.8  \n40               8             0.8  \n41               8             0.8  \n42               8             0.8  \n43               8             0.8  \n44               8             0.8  \n45               8             0.8  \n46               8             0.8  \n47               8             0.8  \n48               8             0.8  \n49               8             0.8  ",
      "text/html": "<div>\n<style scoped>\n    .dataframe tbody tr th:only-of-type {\n        vertical-align: middle;\n    }\n\n    .dataframe tbody tr th {\n        vertical-align: top;\n    }\n\n    .dataframe thead th {\n        text-align: right;\n    }\n</style>\n<table border=\"1\" class=\"dataframe\">\n  <thead>\n    <tr style=\"text-align: right;\">\n      <th></th>\n      <th>task</th>\n      <th>generalisation</th>\n      <th>model</th>\n      <th>test_auc</th>\n      <th>train_auc</th>\n      <th>n_layers</th>\n      <th>temperature</th>\n      <th>emb_size</th>\n      <th>learning_rate</th>\n      <th>train_epochs</th>\n      <th>max_size_train</th>\n      <th>max_prob_train</th>\n    </tr>\n  </thead>\n  <tbody>\n    <tr>\n      <th>0</th>\n      <td>Distributive</td>\n      <td>strong</td>\n      <td>BlackBoxGNN</td>\n      <td>0.996862</td>\n      <td>0.999991</td>\n      <td>8</td>\n      <td>1</td>\n      <td>16</td>\n      <td>0.001</td>\n      <td>200</td>\n      <td>8</td>\n      <td>0.8</td>\n    </tr>\n    <tr>\n      <th>1</th>\n      <td>Distributive</td>\n      <td>strong</td>\n      <td>BlackBoxGNN</td>\n      <td>0.995616</td>\n      <td>0.998662</td>\n      <td>8</td>\n      <td>1</td>\n      <td>16</td>\n      <td>0.001</td>\n      <td>200</td>\n      <td>8</td>\n      <td>0.8</td>\n    </tr>\n    <tr>\n      <th>2</th>\n      <td>Distributive</td>\n      <td>strong</td>\n      <td>BlackBoxGNN</td>\n      <td>0.993404</td>\n      <td>0.999200</td>\n      <td>8</td>\n      <td>1</td>\n      <td>16</td>\n      <td>0.001</td>\n      <td>200</td>\n      <td>8</td>\n      <td>0.8</td>\n    </tr>\n    <tr>\n      <th>3</th>\n      <td>Distributive</td>\n      <td>strong</td>\n      <td>BlackBoxGNN</td>\n      <td>0.997507</td>\n      <td>0.999992</td>\n      <td>8</td>\n      <td>1</td>\n      <td>16</td>\n      <td>0.001</td>\n      <td>200</td>\n      <td>8</td>\n      <td>0.8</td>\n    </tr>\n    <tr>\n      <th>4</th>\n      <td>Distributive</td>\n      <td>strong</td>\n      <td>BlackBoxGNN</td>\n      <td>0.993094</td>\n      <td>0.998944</td>\n      <td>8</td>\n      <td>1</td>\n      <td>16</td>\n      <td>0.001</td>\n      <td>200</td>\n      <td>8</td>\n      <td>0.8</td>\n    </tr>\n    <tr>\n      <th>5</th>\n      <td>Distributive</td>\n      <td>weak</td>\n      <td>BlackBoxGNN</td>\n      <td>0.997230</td>\n      <td>0.997950</td>\n      <td>8</td>\n      <td>1</td>\n      <td>16</td>\n      <td>0.001</td>\n      <td>200</td>\n      <td>8</td>\n      <td>0.8</td>\n    </tr>\n    <tr>\n      <th>6</th>\n      <td>Distributive</td>\n      <td>weak</td>\n      <td>BlackBoxGNN</td>\n      <td>0.998820</td>\n      <td>0.999415</td>\n      <td>8</td>\n      <td>1</td>\n      <td>16</td>\n      <td>0.001</td>\n      <td>200</td>\n      <td>8</td>\n      <td>0.8</td>\n    </tr>\n    <tr>\n      <th>7</th>\n      <td>Distributive</td>\n      <td>weak</td>\n      <td>BlackBoxGNN</td>\n      <td>0.998842</td>\n      <td>0.998404</td>\n      <td>8</td>\n      <td>1</td>\n      <td>16</td>\n      <td>0.001</td>\n      <td>200</td>\n      <td>8</td>\n      <td>0.8</td>\n    </tr>\n    <tr>\n      <th>8</th>\n      <td>Distributive</td>\n      <td>weak</td>\n      <td>BlackBoxGNN</td>\n      <td>0.998938</td>\n      <td>0.998976</td>\n      <td>8</td>\n      <td>1</td>\n      <td>16</td>\n      <td>0.001</td>\n      <td>200</td>\n      <td>8</td>\n      <td>0.8</td>\n    </tr>\n    <tr>\n      <th>9</th>\n      <td>Distributive</td>\n      <td>weak</td>\n      <td>BlackBoxGNN</td>\n      <td>0.998692</td>\n      <td>0.998804</td>\n      <td>8</td>\n      <td>1</td>\n      <td>16</td>\n      <td>0.001</td>\n      <td>200</td>\n      <td>8</td>\n      <td>0.8</td>\n    </tr>\n    <tr>\n      <th>10</th>\n      <td>Modular</td>\n      <td>strong</td>\n      <td>BlackBoxGNN</td>\n      <td>0.978782</td>\n      <td>0.995241</td>\n      <td>8</td>\n      <td>1</td>\n      <td>16</td>\n      <td>0.001</td>\n      <td>200</td>\n      <td>8</td>\n      <td>0.8</td>\n    </tr>\n    <tr>\n      <th>11</th>\n      <td>Modular</td>\n      <td>strong</td>\n      <td>BlackBoxGNN</td>\n      <td>0.979954</td>\n      <td>0.999114</td>\n      <td>8</td>\n      <td>1</td>\n      <td>16</td>\n      <td>0.001</td>\n      <td>200</td>\n      <td>8</td>\n      <td>0.8</td>\n    </tr>\n    <tr>\n      <th>12</th>\n      <td>Modular</td>\n      <td>strong</td>\n      <td>BlackBoxGNN</td>\n      <td>0.988844</td>\n      <td>0.999860</td>\n      <td>8</td>\n      <td>1</td>\n      <td>16</td>\n      <td>0.001</td>\n      <td>200</td>\n      <td>8</td>\n      <td>0.8</td>\n    </tr>\n    <tr>\n      <th>13</th>\n      <td>Modular</td>\n      <td>strong</td>\n      <td>BlackBoxGNN</td>\n      <td>0.984190</td>\n      <td>0.999243</td>\n      <td>8</td>\n      <td>1</td>\n      <td>16</td>\n      <td>0.001</td>\n      <td>200</td>\n      <td>8</td>\n      <td>0.8</td>\n    </tr>\n    <tr>\n      <th>14</th>\n      <td>Modular</td>\n      <td>strong</td>\n      <td>BlackBoxGNN</td>\n      <td>0.947190</td>\n      <td>0.991404</td>\n      <td>8</td>\n      <td>1</td>\n      <td>16</td>\n      <td>0.001</td>\n      <td>200</td>\n      <td>8</td>\n      <td>0.8</td>\n    </tr>\n    <tr>\n      <th>15</th>\n      <td>Modular</td>\n      <td>weak</td>\n      <td>BlackBoxGNN</td>\n      <td>0.998857</td>\n      <td>0.998476</td>\n      <td>8</td>\n      <td>1</td>\n      <td>16</td>\n      <td>0.001</td>\n      <td>200</td>\n      <td>8</td>\n      <td>0.8</td>\n    </tr>\n    <tr>\n      <th>16</th>\n      <td>Modular</td>\n      <td>weak</td>\n      <td>BlackBoxGNN</td>\n      <td>0.843644</td>\n      <td>0.846973</td>\n      <td>8</td>\n      <td>1</td>\n      <td>16</td>\n      <td>0.001</td>\n      <td>200</td>\n      <td>8</td>\n      <td>0.8</td>\n    </tr>\n    <tr>\n      <th>17</th>\n      <td>Modular</td>\n      <td>weak</td>\n      <td>BlackBoxGNN</td>\n      <td>0.998287</td>\n      <td>0.998372</td>\n      <td>8</td>\n      <td>1</td>\n      <td>16</td>\n      <td>0.001</td>\n      <td>200</td>\n      <td>8</td>\n      <td>0.8</td>\n    </tr>\n    <tr>\n      <th>18</th>\n      <td>Modular</td>\n      <td>weak</td>\n      <td>BlackBoxGNN</td>\n      <td>0.998177</td>\n      <td>0.998670</td>\n      <td>8</td>\n      <td>1</td>\n      <td>16</td>\n      <td>0.001</td>\n      <td>200</td>\n      <td>8</td>\n      <td>0.8</td>\n    </tr>\n    <tr>\n      <th>19</th>\n      <td>Modular</td>\n      <td>weak</td>\n      <td>BlackBoxGNN</td>\n      <td>0.999374</td>\n      <td>0.999707</td>\n      <td>8</td>\n      <td>1</td>\n      <td>16</td>\n      <td>0.001</td>\n      <td>200</td>\n      <td>8</td>\n      <td>0.8</td>\n    </tr>\n    <tr>\n      <th>20</th>\n      <td>Meet_SemiDistributive</td>\n      <td>strong</td>\n      <td>BlackBoxGNN</td>\n      <td>0.899863</td>\n      <td>0.899913</td>\n      <td>8</td>\n      <td>1</td>\n      <td>16</td>\n      <td>0.001</td>\n      <td>200</td>\n      <td>8</td>\n      <td>0.8</td>\n    </tr>\n    <tr>\n      <th>21</th>\n      <td>Meet_SemiDistributive</td>\n      <td>strong</td>\n      <td>BlackBoxGNN</td>\n      <td>0.986489</td>\n      <td>0.995029</td>\n      <td>8</td>\n      <td>1</td>\n      <td>16</td>\n      <td>0.001</td>\n      <td>200</td>\n      <td>8</td>\n      <td>0.8</td>\n    </tr>\n    <tr>\n      <th>22</th>\n      <td>Meet_SemiDistributive</td>\n      <td>strong</td>\n      <td>BlackBoxGNN</td>\n      <td>0.987597</td>\n      <td>0.995584</td>\n      <td>8</td>\n      <td>1</td>\n      <td>16</td>\n      <td>0.001</td>\n      <td>200</td>\n      <td>8</td>\n      <td>0.8</td>\n    </tr>\n    <tr>\n      <th>23</th>\n      <td>Meet_SemiDistributive</td>\n      <td>strong</td>\n      <td>BlackBoxGNN</td>\n      <td>0.950670</td>\n      <td>0.978223</td>\n      <td>8</td>\n      <td>1</td>\n      <td>16</td>\n      <td>0.001</td>\n      <td>200</td>\n      <td>8</td>\n      <td>0.8</td>\n    </tr>\n    <tr>\n      <th>24</th>\n      <td>Meet_SemiDistributive</td>\n      <td>strong</td>\n      <td>BlackBoxGNN</td>\n      <td>0.986538</td>\n      <td>0.996320</td>\n      <td>8</td>\n      <td>1</td>\n      <td>16</td>\n      <td>0.001</td>\n      <td>200</td>\n      <td>8</td>\n      <td>0.8</td>\n    </tr>\n    <tr>\n      <th>25</th>\n      <td>Meet_SemiDistributive</td>\n      <td>weak</td>\n      <td>BlackBoxGNN</td>\n      <td>0.968173</td>\n      <td>0.971478</td>\n      <td>8</td>\n      <td>1</td>\n      <td>16</td>\n      <td>0.001</td>\n      <td>200</td>\n      <td>8</td>\n      <td>0.8</td>\n    </tr>\n    <tr>\n      <th>26</th>\n      <td>Meet_SemiDistributive</td>\n      <td>weak</td>\n      <td>BlackBoxGNN</td>\n      <td>0.980705</td>\n      <td>0.984307</td>\n      <td>8</td>\n      <td>1</td>\n      <td>16</td>\n      <td>0.001</td>\n      <td>200</td>\n      <td>8</td>\n      <td>0.8</td>\n    </tr>\n    <tr>\n      <th>27</th>\n      <td>Meet_SemiDistributive</td>\n      <td>weak</td>\n      <td>BlackBoxGNN</td>\n      <td>0.983865</td>\n      <td>0.985418</td>\n      <td>8</td>\n      <td>1</td>\n      <td>16</td>\n      <td>0.001</td>\n      <td>200</td>\n      <td>8</td>\n      <td>0.8</td>\n    </tr>\n    <tr>\n      <th>28</th>\n      <td>Meet_SemiDistributive</td>\n      <td>weak</td>\n      <td>BlackBoxGNN</td>\n      <td>0.991695</td>\n      <td>0.994216</td>\n      <td>8</td>\n      <td>1</td>\n      <td>16</td>\n      <td>0.001</td>\n      <td>200</td>\n      <td>8</td>\n      <td>0.8</td>\n    </tr>\n    <tr>\n      <th>29</th>\n      <td>Meet_SemiDistributive</td>\n      <td>weak</td>\n      <td>BlackBoxGNN</td>\n      <td>0.993718</td>\n      <td>0.995450</td>\n      <td>8</td>\n      <td>1</td>\n      <td>16</td>\n      <td>0.001</td>\n      <td>200</td>\n      <td>8</td>\n      <td>0.8</td>\n    </tr>\n    <tr>\n      <th>30</th>\n      <td>Join_SemiDistributive</td>\n      <td>strong</td>\n      <td>BlackBoxGNN</td>\n      <td>0.977353</td>\n      <td>0.984069</td>\n      <td>8</td>\n      <td>1</td>\n      <td>16</td>\n      <td>0.001</td>\n      <td>200</td>\n      <td>8</td>\n      <td>0.8</td>\n    </tr>\n    <tr>\n      <th>31</th>\n      <td>Join_SemiDistributive</td>\n      <td>strong</td>\n      <td>BlackBoxGNN</td>\n      <td>0.988960</td>\n      <td>0.996200</td>\n      <td>8</td>\n      <td>1</td>\n      <td>16</td>\n      <td>0.001</td>\n      <td>200</td>\n      <td>8</td>\n      <td>0.8</td>\n    </tr>\n    <tr>\n      <th>32</th>\n      <td>Join_SemiDistributive</td>\n      <td>strong</td>\n      <td>BlackBoxGNN</td>\n      <td>0.986035</td>\n      <td>0.995675</td>\n      <td>8</td>\n      <td>1</td>\n      <td>16</td>\n      <td>0.001</td>\n      <td>200</td>\n      <td>8</td>\n      <td>0.8</td>\n    </tr>\n    <tr>\n      <th>33</th>\n      <td>Join_SemiDistributive</td>\n      <td>strong</td>\n      <td>BlackBoxGNN</td>\n      <td>0.986748</td>\n      <td>0.994917</td>\n      <td>8</td>\n      <td>1</td>\n      <td>16</td>\n      <td>0.001</td>\n      <td>200</td>\n      <td>8</td>\n      <td>0.8</td>\n    </tr>\n    <tr>\n      <th>34</th>\n      <td>Join_SemiDistributive</td>\n      <td>strong</td>\n      <td>BlackBoxGNN</td>\n      <td>0.978636</td>\n      <td>0.987458</td>\n      <td>8</td>\n      <td>1</td>\n      <td>16</td>\n      <td>0.001</td>\n      <td>200</td>\n      <td>8</td>\n      <td>0.8</td>\n    </tr>\n    <tr>\n      <th>35</th>\n      <td>Join_SemiDistributive</td>\n      <td>weak</td>\n      <td>BlackBoxGNN</td>\n      <td>0.992754</td>\n      <td>0.995127</td>\n      <td>8</td>\n      <td>1</td>\n      <td>16</td>\n      <td>0.001</td>\n      <td>200</td>\n      <td>8</td>\n      <td>0.8</td>\n    </tr>\n    <tr>\n      <th>36</th>\n      <td>Join_SemiDistributive</td>\n      <td>weak</td>\n      <td>BlackBoxGNN</td>\n      <td>0.971690</td>\n      <td>0.974826</td>\n      <td>8</td>\n      <td>1</td>\n      <td>16</td>\n      <td>0.001</td>\n      <td>200</td>\n      <td>8</td>\n      <td>0.8</td>\n    </tr>\n    <tr>\n      <th>37</th>\n      <td>Join_SemiDistributive</td>\n      <td>weak</td>\n      <td>BlackBoxGNN</td>\n      <td>0.976794</td>\n      <td>0.980544</td>\n      <td>8</td>\n      <td>1</td>\n      <td>16</td>\n      <td>0.001</td>\n      <td>200</td>\n      <td>8</td>\n      <td>0.8</td>\n    </tr>\n    <tr>\n      <th>38</th>\n      <td>Join_SemiDistributive</td>\n      <td>weak</td>\n      <td>BlackBoxGNN</td>\n      <td>0.942945</td>\n      <td>0.947822</td>\n      <td>8</td>\n      <td>1</td>\n      <td>16</td>\n      <td>0.001</td>\n      <td>200</td>\n      <td>8</td>\n      <td>0.8</td>\n    </tr>\n    <tr>\n      <th>39</th>\n      <td>Join_SemiDistributive</td>\n      <td>weak</td>\n      <td>BlackBoxGNN</td>\n      <td>0.987122</td>\n      <td>0.990585</td>\n      <td>8</td>\n      <td>1</td>\n      <td>16</td>\n      <td>0.001</td>\n      <td>200</td>\n      <td>8</td>\n      <td>0.8</td>\n    </tr>\n    <tr>\n      <th>40</th>\n      <td>SemiDistributive</td>\n      <td>strong</td>\n      <td>BlackBoxGNN</td>\n      <td>0.989114</td>\n      <td>0.996838</td>\n      <td>8</td>\n      <td>1</td>\n      <td>16</td>\n      <td>0.001</td>\n      <td>200</td>\n      <td>8</td>\n      <td>0.8</td>\n    </tr>\n    <tr>\n      <th>41</th>\n      <td>SemiDistributive</td>\n      <td>strong</td>\n      <td>BlackBoxGNN</td>\n      <td>0.986536</td>\n      <td>0.996515</td>\n      <td>8</td>\n      <td>1</td>\n      <td>16</td>\n      <td>0.001</td>\n      <td>200</td>\n      <td>8</td>\n      <td>0.8</td>\n    </tr>\n    <tr>\n      <th>42</th>\n      <td>SemiDistributive</td>\n      <td>strong</td>\n      <td>BlackBoxGNN</td>\n      <td>0.988136</td>\n      <td>0.996752</td>\n      <td>8</td>\n      <td>1</td>\n      <td>16</td>\n      <td>0.001</td>\n      <td>200</td>\n      <td>8</td>\n      <td>0.8</td>\n    </tr>\n    <tr>\n      <th>43</th>\n      <td>SemiDistributive</td>\n      <td>strong</td>\n      <td>BlackBoxGNN</td>\n      <td>0.987153</td>\n      <td>0.997343</td>\n      <td>8</td>\n      <td>1</td>\n      <td>16</td>\n      <td>0.001</td>\n      <td>200</td>\n      <td>8</td>\n      <td>0.8</td>\n    </tr>\n    <tr>\n      <th>44</th>\n      <td>SemiDistributive</td>\n      <td>strong</td>\n      <td>BlackBoxGNN</td>\n      <td>0.988768</td>\n      <td>0.997192</td>\n      <td>8</td>\n      <td>1</td>\n      <td>16</td>\n      <td>0.001</td>\n      <td>200</td>\n      <td>8</td>\n      <td>0.8</td>\n    </tr>\n    <tr>\n      <th>45</th>\n      <td>SemiDistributive</td>\n      <td>weak</td>\n      <td>BlackBoxGNN</td>\n      <td>0.994818</td>\n      <td>0.996908</td>\n      <td>8</td>\n      <td>1</td>\n      <td>16</td>\n      <td>0.001</td>\n      <td>200</td>\n      <td>8</td>\n      <td>0.8</td>\n    </tr>\n    <tr>\n      <th>46</th>\n      <td>SemiDistributive</td>\n      <td>weak</td>\n      <td>BlackBoxGNN</td>\n      <td>0.983768</td>\n      <td>0.985514</td>\n      <td>8</td>\n      <td>1</td>\n      <td>16</td>\n      <td>0.001</td>\n      <td>200</td>\n      <td>8</td>\n      <td>0.8</td>\n    </tr>\n    <tr>\n      <th>47</th>\n      <td>SemiDistributive</td>\n      <td>weak</td>\n      <td>BlackBoxGNN</td>\n      <td>0.990681</td>\n      <td>0.993133</td>\n      <td>8</td>\n      <td>1</td>\n      <td>16</td>\n      <td>0.001</td>\n      <td>200</td>\n      <td>8</td>\n      <td>0.8</td>\n    </tr>\n    <tr>\n      <th>48</th>\n      <td>SemiDistributive</td>\n      <td>weak</td>\n      <td>BlackBoxGNN</td>\n      <td>0.992009</td>\n      <td>0.993304</td>\n      <td>8</td>\n      <td>1</td>\n      <td>16</td>\n      <td>0.001</td>\n      <td>200</td>\n      <td>8</td>\n      <td>0.8</td>\n    </tr>\n    <tr>\n      <th>49</th>\n      <td>SemiDistributive</td>\n      <td>weak</td>\n      <td>BlackBoxGNN</td>\n      <td>0.993647</td>\n      <td>0.995713</td>\n      <td>8</td>\n      <td>1</td>\n      <td>16</td>\n      <td>0.001</td>\n      <td>200</td>\n      <td>8</td>\n      <td>0.8</td>\n    </tr>\n  </tbody>\n</table>\n</div>"
     },
     "execution_count": 95,
     "metadata": {},
     "output_type": "execute_result"
    }
   ],
   "source": [
    "df1 = pd.read_csv('auc.csv', index_col=0)\n",
    "df1"
   ],
   "metadata": {
    "collapsed": false,
    "ExecuteTime": {
     "end_time": "2024-03-11T18:48:53.384054Z",
     "start_time": "2024-03-11T18:48:53.358787Z"
    }
   },
   "id": "a14546102c173a4",
   "execution_count": 95
  },
  {
   "cell_type": "code",
   "outputs": [],
   "source": [
    "df1 = df1[['task', 'generalisation', 'train_auc', 'test_auc']]\n",
    "df1_grouped = df1.groupby(['task', 'generalisation']).agg(lambda x: f\"{np.mean(x)}({np.std(x)})\")"
   ],
   "metadata": {
    "collapsed": false,
    "ExecuteTime": {
     "end_time": "2024-03-11T18:48:57.305313Z",
     "start_time": "2024-03-11T18:48:57.300441Z"
    }
   },
   "id": "348838a4233c573f",
   "execution_count": 96
  },
  {
   "cell_type": "code",
   "outputs": [
    {
     "name": "stdout",
     "output_type": "stream",
     "text": [
      "\\begin{tabular}{llSS}\n",
      "\\toprule\n",
      " &  & train_auc & test_auc \\\\\n",
      "task & generalisation &  &  \\\\\n",
      "\\midrule\n",
      "\\multirow[t]{2}{*}{Distributive} & strong & 0.9993577480316163(0.0005446698626941706) & 0.995296323299408(0.0017815370207621127) \\\\\n",
      " & weak & 0.9987096071243287(0.0004995614297259901) & 0.998504376411438(0.0006417787394243542) \\\\\n",
      "\\cline{1-4}\n",
      "\\multirow[t]{2}{*}{Join_SemiDistributive} & strong & 0.9916638374328614(0.004952268353954467) & 0.9835463523864746(0.004652285775820525) \\\\\n",
      " & weak & 0.9777806401252747(0.01660567091921656) & 0.9742609977722168(0.017326796868055525) \\\\\n",
      "\\cline{1-4}\n",
      "\\multirow[t]{2}{*}{Meet_SemiDistributive} & strong & 0.9730140328407287(0.037170267928561554) & 0.9622313737869262(0.03419375619736677) \\\\\n",
      " & weak & 0.9861738204956054(0.008611237658572319) & 0.9836312055587768(0.009103065146331435) \\\\\n",
      "\\cline{1-4}\n",
      "\\multirow[t]{2}{*}{Modular} & strong & 0.9969725012779236(0.0032276756237356284) & 0.975791871547699(0.014732536599332413) \\\\\n",
      " & weak & 0.9684394836425781(0.06073500783192432) & 0.967667531967163(0.06201329783076283) \\\\\n",
      "\\cline{1-4}\n",
      "\\multirow[t]{2}{*}{SemiDistributive} & strong & 0.9969278335571289(0.00030064893514088854) & 0.9879413723945618(0.0009685022263338395) \\\\\n",
      " & weak & 0.9929140448570252(0.003968497619164064) & 0.9909846544265747(0.003872906342853468) \\\\\n",
      "\\cline{1-4}\n",
      "\\bottomrule\n",
      "\\end{tabular}\n"
     ]
    }
   ],
   "source": [
    "print(df1_grouped.to_latex(column_format='llSS'))"
   ],
   "metadata": {
    "collapsed": false,
    "ExecuteTime": {
     "end_time": "2024-03-11T18:49:11.801154Z",
     "start_time": "2024-03-11T18:49:11.790879Z"
    }
   },
   "id": "2d5787c477fe5d77",
   "execution_count": 98
  },
  {
   "cell_type": "code",
   "outputs": [],
   "source": [],
   "metadata": {
    "collapsed": false
   },
   "id": "895291967474e2f8"
  }
 ],
 "metadata": {
  "kernelspec": {
   "display_name": "Python 3",
   "language": "python",
   "name": "python3"
  },
  "language_info": {
   "codemirror_mode": {
    "name": "ipython",
    "version": 2
   },
   "file_extension": ".py",
   "mimetype": "text/x-python",
   "name": "python",
   "nbconvert_exporter": "python",
   "pygments_lexer": "ipython2",
   "version": "2.7.6"
  }
 },
 "nbformat": 4,
 "nbformat_minor": 5
}
